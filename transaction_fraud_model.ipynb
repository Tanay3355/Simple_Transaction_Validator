{
 "cells": [
  {
   "cell_type": "markdown",
   "id": "1f82540d",
   "metadata": {},
   "source": [
    "Import Libraries\n",
    "\n"
   ]
  },
  {
   "cell_type": "code",
   "execution_count": 1,
   "id": "866ccfc2",
   "metadata": {},
   "outputs": [],
   "source": [
    "import pandas as pd\n",
    "from sklearn.preprocessing import LabelEncoder\n",
    "from sklearn.model_selection import train_test_split\n",
    "from sklearn.tree import DecisionTreeClassifier , plot_tree\n",
    "from sklearn.metrics import accuracy_score, classification_report\n",
    "import matplotlib.pyplot as plt"
   ]
  },
  {
   "cell_type": "code",
   "execution_count": 2,
   "id": "f10c6a9a",
   "metadata": {},
   "outputs": [],
   "source": [
    "df = pd.read_csv('transaction_fraud_dataset.csv')"
   ]
  },
  {
   "cell_type": "markdown",
   "id": "6c0e75be",
   "metadata": {},
   "source": [
    "Checking missing values"
   ]
  },
  {
   "cell_type": "code",
   "execution_count": 3,
   "id": "38303a7d",
   "metadata": {},
   "outputs": [
    {
     "name": "stdout",
     "output_type": "stream",
     "text": [
      "transaction_amount         0\n",
      "transaction_time           0\n",
      "merchant_id                0\n",
      "transaction_location       0\n",
      "account_age                0\n",
      "prior_fraud_involvement    0\n",
      "ip_address                 0\n",
      "is_fraud                   0\n",
      "dtype: int64\n"
     ]
    }
   ],
   "source": [
    "\n",
    "print(df.isnull().sum())"
   ]
  },
  {
   "cell_type": "markdown",
   "id": "88e698a2",
   "metadata": {},
   "source": [
    "Checking data types\n"
   ]
  },
  {
   "cell_type": "code",
   "execution_count": 4,
   "id": "1f3fc441",
   "metadata": {},
   "outputs": [
    {
     "name": "stdout",
     "output_type": "stream",
     "text": [
      "transaction_amount         float64\n",
      "transaction_time             int64\n",
      "merchant_id                 object\n",
      "transaction_location        object\n",
      "account_age                  int64\n",
      "prior_fraud_involvement      int64\n",
      "ip_address                  object\n",
      "is_fraud                     int64\n",
      "dtype: object\n"
     ]
    }
   ],
   "source": [
    "print(df.dtypes)"
   ]
  },
  {
   "cell_type": "markdown",
   "id": "7e2f521a",
   "metadata": {},
   "source": [
    "Converting categorical into numerical data type"
   ]
  },
  {
   "cell_type": "code",
   "execution_count": 5,
   "id": "596d020d",
   "metadata": {},
   "outputs": [],
   "source": [
    "label_encoders = {}\n",
    "for col in ['merchant_id', 'transaction_location', 'ip_address']:\n",
    "    le = LabelEncoder()\n",
    "    df[col] = le.fit_transform(df[col])\n",
    "    label_encoders[col] = le\n"
   ]
  },
  {
   "cell_type": "markdown",
   "id": "4595810a",
   "metadata": {},
   "source": [
    "Checking new data types"
   ]
  },
  {
   "cell_type": "code",
   "execution_count": 6,
   "id": "77d90350",
   "metadata": {},
   "outputs": [
    {
     "name": "stdout",
     "output_type": "stream",
     "text": [
      "transaction_amount         float64\n",
      "transaction_time             int64\n",
      "merchant_id                  int64\n",
      "transaction_location         int64\n",
      "account_age                  int64\n",
      "prior_fraud_involvement      int64\n",
      "ip_address                   int64\n",
      "is_fraud                     int64\n",
      "dtype: object\n"
     ]
    }
   ],
   "source": [
    "print(df.dtypes)"
   ]
  },
  {
   "cell_type": "markdown",
   "id": "7ea5d0a8",
   "metadata": {},
   "source": [
    "Train Test Split"
   ]
  },
  {
   "cell_type": "code",
   "execution_count": 7,
   "id": "a5a9790c",
   "metadata": {},
   "outputs": [],
   "source": [
    "x = df.drop('is_fraud', axis=1)\n",
    "y = df['is_fraud']\n",
    "\n",
    "x_train, x_test, y_train, y_test = train_test_split(x, y, test_size=0.2, random_state=40, stratify=y)"
   ]
  },
  {
   "cell_type": "markdown",
   "id": "3a742caf",
   "metadata": {},
   "source": [
    "Checking the size of training and testing data"
   ]
  },
  {
   "cell_type": "code",
   "execution_count": 8,
   "id": "ded57532",
   "metadata": {},
   "outputs": [
    {
     "name": "stdout",
     "output_type": "stream",
     "text": [
      "(400, 7) (100, 7)\n"
     ]
    }
   ],
   "source": [
    "print(x_train.shape, x_test.shape)"
   ]
  },
  {
   "cell_type": "markdown",
   "id": "60624493",
   "metadata": {},
   "source": [
    "Training the Model"
   ]
  },
  {
   "cell_type": "code",
   "execution_count": 9,
   "id": "b2abe87c",
   "metadata": {},
   "outputs": [],
   "source": [
    "dtree = DecisionTreeClassifier()\n",
    "dtree = dtree.fit(x_train, y_train)"
   ]
  },
  {
   "cell_type": "markdown",
   "id": "e0663514",
   "metadata": {},
   "source": [
    "Testing and measuring the accuracy"
   ]
  },
  {
   "cell_type": "code",
   "execution_count": 10,
   "id": "7ff1b870",
   "metadata": {},
   "outputs": [
    {
     "name": "stdout",
     "output_type": "stream",
     "text": [
      "1.0\n",
      "              precision    recall  f1-score   support\n",
      "\n",
      "           0       1.00      1.00      1.00        50\n",
      "           1       1.00      1.00      1.00        50\n",
      "\n",
      "    accuracy                           1.00       100\n",
      "   macro avg       1.00      1.00      1.00       100\n",
      "weighted avg       1.00      1.00      1.00       100\n",
      "\n"
     ]
    }
   ],
   "source": [
    "y_predicted = dtree.predict(x_test)\n",
    "\n",
    "accuracy = accuracy_score(y_test, y_predicted)\n",
    "print(accuracy)\n",
    "print(classification_report(y_test, y_predicted))"
   ]
  },
  {
   "cell_type": "markdown",
   "id": "212fa286",
   "metadata": {},
   "source": [
    "Visualizing the Decision Tree"
   ]
  },
  {
   "cell_type": "code",
   "execution_count": 11,
   "id": "b5fdce00",
   "metadata": {},
   "outputs": [
    {
     "data": {
      "image/png": "[encoded data removed]",
      "text/plain": [
       "<Figure size 1000x500 with 1 Axes>"
      ]
     },
     "metadata": {},
     "output_type": "display_data"
    }
   ],
   "source": [
    "\n",
    "plt.figure(figsize=(10,5)) \n",
    "plot_tree(dtree,feature_names=x.columns, class_names=['Valid', 'Fraud'], fontsize=10)\n",
    "plt.show() \n"
   ]
  },
  {
   "cell_type": "markdown",
   "id": "70d5957e",
   "metadata": {},
   "source": [
    "Testing model on new made-up data"
   ]
  },
  {
   "cell_type": "markdown",
   "id": "78962a91",
   "metadata": {},
   "source": [
    "Example of Valid Transaction"
   ]
  },
  {
   "cell_type": "code",
   "execution_count": 12,
   "id": "9e60e325",
   "metadata": {},
   "outputs": [
    {
     "name": "stdout",
     "output_type": "stream",
     "text": [
      "Prediction: Valid transaction\n"
     ]
    }
   ],
   "source": [
    "new_data = {\n",
    "    'transaction_amount': [8677.052225],     \n",
    "    'transaction_time': [6],          \n",
    "    'merchant_id': ['M035'],           \n",
    "    'transaction_location': ['Mumbai'],\n",
    "    'account_age': [89],\n",
    "    'prior_fraud_involvement': [0],\n",
    "    'ip_address': ['116.96.164.243']     \n",
    "}\n",
    "\n",
    "new_df = pd.DataFrame(new_data)\n",
    "\n",
    "\n",
    "for col in ['merchant_id', 'transaction_location', 'ip_address']:\n",
    "    le = label_encoders[col]\n",
    "    new_df[col] = le.fit_transform(new_df[col])\n",
    "\n",
    "prediction = dtree.predict(new_df)\n",
    "if prediction[0] == 1:\n",
    "    print(\"Prediction: Fraud\")\n",
    "else:\n",
    "    print(\"Prediction: Valid transaction\")\n"
   ]
  },
  {
   "cell_type": "markdown",
   "id": "0fb4e15a",
   "metadata": {},
   "source": [
    "Example of Fraud Transaction"
   ]
  },
  {
   "cell_type": "code",
   "execution_count": 13,
   "id": "5e95b99f",
   "metadata": {},
   "outputs": [
    {
     "name": "stdout",
     "output_type": "stream",
     "text": [
      "Prediction: Fraud\n"
     ]
    }
   ],
   "source": [
    "new_data = {\n",
    "    'transaction_amount': [60404.19513],     \n",
    "    'transaction_time': [1],          \n",
    "    'merchant_id': ['M050'],           \n",
    "    'transaction_location': ['Bangalore'],\n",
    "    'account_age': [7],\n",
    "    'prior_fraud_involvement': [1],\n",
    "    'ip_address': ['160.51.37.109']     \n",
    "}\n",
    "\n",
    "new_df = pd.DataFrame(new_data)\n",
    "\n",
    "\n",
    "for col in ['merchant_id', 'transaction_location', 'ip_address']:\n",
    "    le = label_encoders[col]\n",
    "    new_df[col] = le.fit_transform(new_df[col])\n",
    "\n",
    "prediction = dtree.predict(new_df)\n",
    "if prediction[0] == 1:\n",
    "    print(\"Prediction: Fraud\")\n",
    "else:\n",
    "    print(\"Prediction: Valid transaction\")\n"
   ]
  }
 ],
 "metadata": {
  "kernelspec": {
   "display_name": "venv",
   "language": "python",
   "name": "python3"
  },
  "language_info": {
   "codemirror_mode": {
    "name": "ipython",
    "version": 3
   },
   "file_extension": ".py",
   "mimetype": "text/x-python",
   "name": "python",
   "nbconvert_exporter": "python",
   "pygments_lexer": "ipython3",
   "version": "3.11.4"
  }
 },
 "nbformat": 4,
 "nbformat_minor": 5
}
